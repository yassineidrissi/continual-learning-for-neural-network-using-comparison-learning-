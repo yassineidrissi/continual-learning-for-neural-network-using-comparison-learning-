{
 "cells": [
  {
   "cell_type": "markdown",
   "metadata": {},
   "source": [
    "# Dataset Exploration\n",
    "\n",
    "This notebook is used for exploring the synthetic dataset generated for the Rank-Distance Perceptron. It includes visualizations and analyses of the features."
   ]
  },
  {
   "cell_type": "code",
   "execution_count": null,
   "metadata": {},
   "outputs": [],
   "source": [
    "import random\n",
    "import math\n",
    "import matplotlib.pyplot as plt\n",
    "import pandas as pd\n",
    "\n",
    "# Function to generate synthetic dataset\n",
    "def generate_dataset(num_samples=1000, num_features=32):\n",
    "    data = []\n",
    "    labels = []\n",
    "    for _ in range(num_samples):\n",
    "        features = [random.uniform(0, 1) for _ in range(num_features)]\n",
    "        label = 1 if sum(features) > num_features / 2 else 0\n",
    "        data.append(features)\n",
    "        labels.append(label)\n",
    "    return pd.DataFrame(data, columns=[f'feature_{i}' for i in range(num_features)]), labels\n",
    "\n",
    "# Generate the dataset\n",
    "df, labels = generate_dataset()\n",
    "\n",
    "# Display the first few rows of the dataset\n",
    "df.head()"
   ]
  },
  {
   "cell_type": "code",
   "execution_count": null,
   "metadata": {},
   "outputs": [],
   "source": [
    "# Visualizing feature distributions\n",
    "def plot_feature_distribution(df):\n",
    "    df.hist(bins=30, figsize=(15, 10))\n",
    "    plt.suptitle('Feature Distributions')\n",
    "    plt.show()\n",
    "\n",
    "plot_feature_distribution(df)"
   ]
  },
  {
   "cell_type": "code",
   "execution_count": null,
   "metadata": {},
   "outputs": [],
   "source": [
    "# Visualizing relationships between features\n",
    "def plot_feature_relationships(df):\n",
    "    plt.figure(figsize=(10, 6))\n",
    "    plt.scatter(df['feature_0'], df['feature_1'], alpha=0.5)\n",
    "    plt.title('Feature 0 vs Feature 1')\n",
    "    plt.xlabel('Feature 0')\n",
    "    plt.ylabel('Feature 1')\n",
    "    plt.grid()\n",
    "    plt.show()\n",
    "\n",
    "plot_feature_relationships(df)"
   ]
  }
 ],
 "metadata": {
  "kernelspec": {
   "display_name": "Python 3",
   "language": "python",
   "name": "python3"
  },
  "language_info": {
   "codemirror_mode": {
    "name": "ipython",
    "version": 3
   },
   "file_extension": ".py",
   "mimetype": "text/x-python",
   "name": "python",
   "nbconvert_exporter": "python",
   "pygments_lexer": "ipython3",
   "version": "3.8.5"
  }
 },
 "nbformat": 4,
 "nbformat_minor": 4
}
